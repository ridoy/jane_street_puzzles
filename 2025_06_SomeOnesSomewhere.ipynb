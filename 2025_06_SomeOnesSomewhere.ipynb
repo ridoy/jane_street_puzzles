{
  "metadata": {
    "kernelspec": {
      "name": "xpython",
      "display_name": "Python 3.13 (XPython)",
      "language": "python"
    },
    "language_info": {
      "file_extension": ".py",
      "mimetype": "text/x-python",
      "name": "python",
      "version": "3.13.1"
    }
  },
  "nbformat_minor": 5,
  "nbformat": 4,
  "cells": [
    {
      "id": "14684d8b-2b93-4113-b4a6-d22f58815535",
      "cell_type": "raw",
      "source": "https://www.janestreet.com/static/pdfs/puzzles/june-2025-puzzle.pdf\n\nScrolling in on the image, one can find Scrabble tiles along the table edges that read \"PARTRIDGE TILING\". That led me here: https://erich-friedman.github.io/mathmagic/0802.html\n\nBased on this each table represents an incomplete partridge tiling of n=9 on a 45x45 grid.\n\nNotably, the tile of size 1 is missing from each. This must be significant.",
      "metadata": {}
    },
    {
      "id": "4669fa26-0075-4ba2-89c2-569d6a208edc",
      "cell_type": "code",
      "source": "from ortools.sat.python import cp_model",
      "metadata": {
        "trusted": true
      },
      "outputs": [],
      "execution_count": null
    },
    {
      "id": "771b13b3-30d0-4608-95e9-d2c97efa6ae5",
      "cell_type": "raw",
      "source": "We're gonna write each table as a constraint optimization problem, and use a SAT solver (OR-Tools) to solve them. This yields the location of our 1-tile.\n\nI painstakingly copied each initial square into (size,x,y) format. I'll just use the top left table for this example:",
      "metadata": {}
    },
    {
      "id": "e41422b3-1b95-49d5-bc54-56b0209a8984",
      "cell_type": "code",
      "source": "initial_squares = [\n    (3, 12, 4), # A square of size 3 at (12, 4)\n    (4, 11, 0), (4, 33, 0), (4, 33, 4),\n    (5, 9, 19), (5, 9, 24), (5, 33, 8),\n    (6, 9, 13),\n    (7, 31, 38), (7, 38, 8), (7, 38, 15), (7, 38, 38),\n    (8, 9, 29), (8, 9, 37), (8, 29, 30), (8, 37, 0), (8, 37, 22), (8, 37, 30),\n    (9, 0, 9), (9, 0, 18), (9, 0, 27), (9, 0, 36), (9, 15, 0), (9, 24, 0), (9, 29, 13)\n]",
      "metadata": {
        "trusted": true
      },
      "outputs": [],
      "execution_count": null
    },
    {
      "id": "11a4d0f8-f29e-405e-89e6-578885209bdc",
      "cell_type": "raw",
      "source": "Then set up our constraint model...",
      "metadata": {}
    },
    {
      "id": "a2b63fb7-cd3c-4705-914f-e558a4482969",
      "cell_type": "code",
      "source": "n = 9\ngrid_size = 45\nmodel = cp_model.CpModel()\n\nsquare_counts = {k: k for k in range(1, n + 1)}\nfor size, _, _ in initial_squares:\n    square_counts[size] -= 1\n\nx_vars = []\ny_vars = []\nsizes = []\nx_intervals = []\ny_intervals = []\n\nfor size in range(1, n + 1):\n    count = square_counts[size]\n    for i in range(count):\n        x = model.NewIntVar(0, grid_size - size, f'x_{size}_{i}')\n        y = model.NewIntVar(0, grid_size - size, f'y_{size}_{i}')\n        x_vars.append(x)\n        y_vars.append(y)\n        sizes.append(size)\n\n        x_interval = model.NewIntervalVar(x, size, x + size, f'x_int_{size}_{i}')\n        y_interval = model.NewIntervalVar(y, size, y + size, f'y_int_{size}_{i}')\n        x_intervals.append(x_interval)\n        y_intervals.append(y_interval)\n\nfor i, (size, fx, fy) in enumerate(initial_squares):\n    fx_const = model.NewConstant(fx)\n    fy_const = model.NewConstant(fy)\n    x_intervals.append(model.NewIntervalVar(fx_const, size, fx + size, f'x_fixed_{i}'))\n    y_intervals.append(model.NewIntervalVar(fy_const, size, fy + size, f'y_fixed_{i}'))\n\nmodel.AddNoOverlap2D(x_intervals, y_intervals)",
      "metadata": {
        "trusted": true
      },
      "outputs": [],
      "execution_count": null
    },
    {
      "id": "87dde268-00b6-4e29-9133-37eb3eb28376",
      "cell_type": "raw",
      "source": "With all of our constraints in place we can now solve. I've left out some code here that verifies uniqueness; status == cp_model.OPTIMAL is apparently not sufficient.",
      "metadata": {}
    },
    {
      "id": "1cbd0d31-1361-4e09-8f6c-e4847c8e17e4",
      "cell_type": "code",
      "source": "solver = cp_model.CpSolver()\nstatus = solver.Solve(model)\nprint(f\"Solution was optimal? {status == cp_model.OPTIMAL}\")\n\n# The squares that were put down\nnew_squares = [(sizes[i], solver.Value(x_vars[i]), solver.Value(y_vars[i])) for i in range(len(sizes))]\n\n# And the location of the 1 square..\none_square = [(x,y) for size,x,y in new_squares if size == 1][0]\nprint(f\"{one_square=}\") # one_square=(20,18)",
      "metadata": {
        "trusted": true
      },
      "outputs": [],
      "execution_count": null
    },
    {
      "id": "0c1f6c7f-f334-4b90-8ffa-7628dadfbe2a",
      "cell_type": "raw",
      "source": "The final key to this puzzle was noticing the meaning of the gaps in between the tiles that spelled \"PARTRIDGE TILING\". It didn't hit me until I realized P was at x=16 (1 indexed...) and P is the 16th letter of the alphabet. So you can fill in A...ZA...A and so on along the top and left edges (note this overflows to the next table, it's global). Solving the remaining puzzles, and mapping them to the appropriate letter in this fashion, yields the final answer to the puzzle.\n\n(20,18) maps to (U,S). I ended up with:\n\nUSOMCFBUSESIQSAUER\n\nHuh? But when you try (y,x) instead of (x,y), you get:\nSUMOFCUBESISSQUARE\n\nBoom",
      "metadata": {}
    }
  ]
}
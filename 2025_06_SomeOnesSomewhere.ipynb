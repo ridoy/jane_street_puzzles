{
 "cells": [
  {
   "cell_type": "markdown",
   "id": "bed540e6-ac10-4cb5-a3f6-56825ba121da",
   "metadata": {},
   "source": [
    "https://www.janestreet.com/static/pdfs/puzzles/june-2025-puzzle.pdf\n",
    "\n",
    "Scrolling in on the image, one can find Scrabble tiles along the table edges that read \"PARTRIDGE TILING\". That led me here: https://erich-friedman.github.io/mathmagic/0802.html\n",
    "\n",
    "Based on this each table represents an incomplete partridge tiling of n=9 on a 45x45 grid.\n",
    "\n",
    "Notably, the tile of size 1 is missing from each. This must be significant."
   ]
  },
  {
   "cell_type": "code",
   "execution_count": 3,
   "id": "4669fa26-0075-4ba2-89c2-569d6a208edc",
   "metadata": {},
   "outputs": [],
   "source": [
    "from ortools.sat.python import cp_model"
   ]
  },
  {
   "cell_type": "markdown",
   "id": "8077140a-8302-472d-b3b4-787978dfc0bd",
   "metadata": {},
   "source": [
    "We're gonna write each table as a constraint optimization problem, and use a SAT solver (OR-Tools) to solve them. This yields the location of our 1-tile.\n",
    "\n",
    "I painstakingly copied each initial square into (size,x,y) format. I'll just use the top left table for this example:"
   ]
  },
  {
   "cell_type": "code",
   "execution_count": 4,
   "id": "e41422b3-1b95-49d5-bc54-56b0209a8984",
   "metadata": {},
   "outputs": [],
   "source": [
    "initial_squares = [\n",
    "    (3, 12, 4), # A square of size 3 at (12, 4)\n",
    "    (4, 11, 0), (4, 33, 0), (4, 33, 4),\n",
    "    (5, 9, 19), (5, 9, 24), (5, 33, 8),\n",
    "    (6, 9, 13),\n",
    "    (7, 31, 38), (7, 38, 8), (7, 38, 15), (7, 38, 38),\n",
    "    (8, 9, 29), (8, 9, 37), (8, 29, 30), (8, 37, 0), (8, 37, 22), (8, 37, 30),\n",
    "    (9, 0, 9), (9, 0, 18), (9, 0, 27), (9, 0, 36), (9, 15, 0), (9, 24, 0), (9, 29, 13)\n",
    "]"
   ]
  },
  {
   "cell_type": "markdown",
   "id": "c30b6f25-5635-49c2-a05b-ef27e9fa4f59",
   "metadata": {},
   "source": [
    "Then set up our constraint model..."
   ]
  },
  {
   "cell_type": "code",
   "execution_count": 5,
   "id": "a2b63fb7-cd3c-4705-914f-e558a4482969",
   "metadata": {},
   "outputs": [
    {
     "data": {
      "text/plain": [
       "<ortools.sat.python.cp_model.Constraint at 0x1130ce970>"
      ]
     },
     "execution_count": 5,
     "metadata": {},
     "output_type": "execute_result"
    }
   ],
   "source": [
    "n = 9\n",
    "grid_size = 45\n",
    "model = cp_model.CpModel()\n",
    "\n",
    "square_counts = {k: k for k in range(1, n + 1)}\n",
    "for size, _, _ in initial_squares:\n",
    "    square_counts[size] -= 1\n",
    "\n",
    "x_vars = []\n",
    "y_vars = []\n",
    "sizes = []\n",
    "x_intervals = []\n",
    "y_intervals = []\n",
    "\n",
    "for size in range(1, n + 1):\n",
    "    count = square_counts[size]\n",
    "    for i in range(count):\n",
    "        x = model.NewIntVar(0, grid_size - size, f'x_{size}_{i}')\n",
    "        y = model.NewIntVar(0, grid_size - size, f'y_{size}_{i}')\n",
    "        x_vars.append(x)\n",
    "        y_vars.append(y)\n",
    "        sizes.append(size)\n",
    "\n",
    "        x_interval = model.NewIntervalVar(x, size, x + size, f'x_int_{size}_{i}')\n",
    "        y_interval = model.NewIntervalVar(y, size, y + size, f'y_int_{size}_{i}')\n",
    "        x_intervals.append(x_interval)\n",
    "        y_intervals.append(y_interval)\n",
    "\n",
    "for i, (size, fx, fy) in enumerate(initial_squares):\n",
    "    fx_const = model.NewConstant(fx)\n",
    "    fy_const = model.NewConstant(fy)\n",
    "    x_intervals.append(model.NewIntervalVar(fx_const, size, fx + size, f'x_fixed_{i}'))\n",
    "    y_intervals.append(model.NewIntervalVar(fy_const, size, fy + size, f'y_fixed_{i}'))\n",
    "\n",
    "model.AddNoOverlap2D(x_intervals, y_intervals)"
   ]
  },
  {
   "cell_type": "markdown",
   "id": "21a47b6a-81a5-40a9-80fe-e7a8a5f7e84a",
   "metadata": {},
   "source": [
    "With all of our constraints in place we can now solve. I've left out some code here that verifies uniqueness; status == cp_model.OPTIMAL is apparently not sufficient."
   ]
  },
  {
   "cell_type": "code",
   "execution_count": 7,
   "id": "1cbd0d31-1361-4e09-8f6c-e4847c8e17e4",
   "metadata": {},
   "outputs": [
    {
     "name": "stdout",
     "output_type": "stream",
     "text": [
      "Solution was optimal? True\n",
      "one_square=(20, 18)\n"
     ]
    }
   ],
   "source": [
    "solver = cp_model.CpSolver()\n",
    "status = solver.Solve(model)\n",
    "print(f\"Solution was optimal? {status == cp_model.OPTIMAL}\")\n",
    "\n",
    "# The squares that were put down\n",
    "new_squares = [(sizes[i], solver.Value(x_vars[i]), solver.Value(y_vars[i])) for i in range(len(sizes))]\n",
    "\n",
    "# And the location of the 1 square..\n",
    "one_square = [(x,y) for size,x,y in new_squares if size == 1][0]\n",
    "print(f\"{one_square=}\") # one_square=(20,18)"
   ]
  },
  {
   "cell_type": "markdown",
   "id": "d1110e34-9473-4870-9e65-3e7a2b320af0",
   "metadata": {},
   "source": [
    "The final key to this puzzle was noticing the meaning of the gaps in between the tiles that spelled \"PARTRIDGE TILING\". It didn't hit me until I realized P was at x=16 (1 indexed...) and P is the 16th letter of the alphabet. So you can fill in A...ZA...A and so on along the top and left edges (note this overflows to the next table, it's global). Solving the remaining puzzles, and mapping them to the appropriate letter in this fashion, yields the final answer to the puzzle.\n",
    "\n",
    "(20,18) maps to (U,S). I ended up with:\n",
    "\n",
    "USOMCFBUSESIQSAUER\n",
    "\n",
    "Huh? But when you try (y,x) instead of (x,y), you get:\n",
    "SUMOFCUBESISSQUARE\n",
    "\n",
    "Boom"
   ]
  }
 ],
 "metadata": {
  "kernelspec": {
   "display_name": "Python 3 (ipykernel)",
   "language": "python",
   "name": "python3"
  },
  "language_info": {
   "codemirror_mode": {
    "name": "ipython",
    "version": 3
   },
   "file_extension": ".py",
   "mimetype": "text/x-python",
   "name": "python",
   "nbconvert_exporter": "python",
   "pygments_lexer": "ipython3",
   "version": "3.9.6"
  }
 },
 "nbformat": 4,
 "nbformat_minor": 5
}

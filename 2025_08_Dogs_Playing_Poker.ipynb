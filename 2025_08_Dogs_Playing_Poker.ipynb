{
 "cells": [
  {
   "cell_type": "raw",
   "id": "fa46b0d3-858c-44e2-88de-257aae081aa5",
   "metadata": {},
   "source": [
    "I disliked this month's puzzle. Chip counts were a dumb clue. I don't even know why I'm writing this. There's nothing I can say here that isn't expressed in the published solution already."
   ]
  },
  {
   "cell_type": "code",
   "execution_count": 47,
   "id": "1130ca50-4bcc-458d-b891-3a9a3d8a7f9a",
   "metadata": {},
   "outputs": [
    {
     "name": "stdout",
     "output_type": "stream",
     "text": [
      "shiftbychipcount\n"
     ]
    }
   ],
   "source": [
    "from dataclasses import dataclass\n",
    "\n",
    "@dataclass\n",
    "class Dog:\n",
    "    emoji_name: str\n",
    "    card_ranks: tuple[int,int]\n",
    "    chip_counts: tuple[int,int]\n",
    "\n",
    "dogs = [\n",
    "    Dog(\"flushedface\", (4, 5), (1, 0)),\n",
    "    Dog(\"droolingface\", (6, 9), (22, 23)),\n",
    "    Dog(\"cowboyhatface\", (9, 4), (7, 12)),\n",
    "    Dog(\"woozyface\", (5, 8), (10, 11)),\n",
    "    Dog(\"anguishedface\", (7, 5), (23, 6)),\n",
    "    Dog(\"poutingcatface\", (1, 8), (16, 0)),\n",
    "    Dog(\"confoundedface\", (5, 6), (23, 0)),\n",
    "    Dog(\"squintingfacewithtongue\", (8, 6), (14, 25))\n",
    "]\n",
    "\n",
    "# Index into emoji name using ranks of cards in front of each dog\n",
    "s = []\n",
    "for dog in dogs:\n",
    "    ranks = dog.card_ranks\n",
    "    s.append(dog.emoji_name[ranks[0]-1])\n",
    "    s.append(dog.emoji_name[ranks[1]-1])\n",
    "print(\"\".join(s))"
   ]
  },
  {
   "cell_type": "code",
   "execution_count": 48,
   "id": "dcc2c005-c151-4e2e-932b-0328718e1207",
   "metadata": {},
   "outputs": [
    {
     "name": "stdout",
     "output_type": "stream",
     "text": [
      "thecanineofclubs\n"
     ]
    }
   ],
   "source": [
    "# Rotate each letter by corresponding chip count\n",
    "def rotate_letter(letter: str, amount: int) -> str:\n",
    "    new_ord = ((ord(letter) - ord('a') + amount) % 26) + ord('a')\n",
    "    return chr(new_ord)\n",
    "i = 0\n",
    "for dog in dogs:\n",
    "    s[i] = rotate_letter(s[i], dog.chip_counts[0])\n",
    "    s[i+1] = rotate_letter(s[i+1], dog.chip_counts[1])\n",
    "    i += 2\n",
    "print(\"\".join(s))"
   ]
  }
 ],
 "metadata": {
  "kernelspec": {
   "display_name": "Python 3 (ipykernel)",
   "language": "python",
   "name": "python3"
  },
  "language_info": {
   "codemirror_mode": {
    "name": "ipython",
    "version": 3
   },
   "file_extension": ".py",
   "mimetype": "text/x-python",
   "name": "python",
   "nbconvert_exporter": "python",
   "pygments_lexer": "ipython3",
   "version": "3.9.6"
  }
 },
 "nbformat": 4,
 "nbformat_minor": 5
}
